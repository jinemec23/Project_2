{
 "metadata": {
  "language_info": {
   "codemirror_mode": {
    "name": "ipython",
    "version": 3
   },
   "file_extension": ".py",
   "mimetype": "text/x-python",
   "name": "python",
   "nbconvert_exporter": "python",
   "pygments_lexer": "ipython3",
   "version": "3.8.5"
  },
  "orig_nbformat": 2,
  "kernelspec": {
   "name": "python385jvsc74a57bd0a84a2774ece11607afbede4528f66180dd13ac6b7c4625eb3af0552779058e68",
   "display_name": "Python 3.8.5 64-bit ('base': conda)"
  }
 },
 "nbformat": 4,
 "nbformat_minor": 2,
 "cells": [
  {
   "cell_type": "code",
   "execution_count": 1,
   "metadata": {},
   "outputs": [],
   "source": [
    "import pandas as pd\n",
    "import json"
   ]
  },
  {
   "cell_type": "code",
   "execution_count": 26,
   "metadata": {},
   "outputs": [
    {
     "output_type": "execute_result",
     "data": {
      "text/plain": [
       "  Vintage    Country         County                               Designation  \\\n",
       "0  1/1/14     France        Pomerol                                       NaN   \n",
       "1  1/1/10     France  Saint-milion                                       NaN   \n",
       "2  1/1/09  Australia    Eden Valley                             Hill of Grace   \n",
       "3  1/1/15    Germany            NaN  Kiedrich Grfenberg Trockenbeerenauslese   \n",
       "4  1/1/12      Spain        Priorat                                  El Perer   \n",
       "\n",
       "   Points      Price          Province  \\\n",
       "0      96  $2,500.00          Bordeaux   \n",
       "1     100  $1,500.00          Bordeaux   \n",
       "2      91    $780.00   South Australia   \n",
       "3      98    $775.00          Rheingau   \n",
       "4      96    $770.00         Catalonia   \n",
       "\n",
       "                                               Title  \\\n",
       "0                        Chteau Ptrus 2014 Pomerol   \n",
       "1            Chteau Cheval Blanc 2010 Saint-milion   \n",
       "2   Henschke 2009 Hill of Grace Shiraz (Eden Valley)   \n",
       "3  Robert Weil 2015 Kiedrich Grfenberg Trockenbe...   \n",
       "4      Marco Abella 2012 El Perer Carignan (Priorat)   \n",
       "\n",
       "                    Variety                Winery  \n",
       "0  Bordeaux-style Red Blend        Chteau Ptrus  \n",
       "1  Bordeaux-style Red Blend  Chteau Cheval Blanc  \n",
       "2                    Shiraz              Henschke  \n",
       "3                  Riesling           Robert Weil  \n",
       "4                  Carignan          Marco Abella  "
      ],
      "text/html": "<div>\n<style scoped>\n    .dataframe tbody tr th:only-of-type {\n        vertical-align: middle;\n    }\n\n    .dataframe tbody tr th {\n        vertical-align: top;\n    }\n\n    .dataframe thead th {\n        text-align: right;\n    }\n</style>\n<table border=\"1\" class=\"dataframe\">\n  <thead>\n    <tr style=\"text-align: right;\">\n      <th></th>\n      <th>Vintage</th>\n      <th>Country</th>\n      <th>County</th>\n      <th>Designation</th>\n      <th>Points</th>\n      <th>Price</th>\n      <th>Province</th>\n      <th>Title</th>\n      <th>Variety</th>\n      <th>Winery</th>\n    </tr>\n  </thead>\n  <tbody>\n    <tr>\n      <th>0</th>\n      <td>1/1/14</td>\n      <td>France</td>\n      <td>Pomerol</td>\n      <td>NaN</td>\n      <td>96</td>\n      <td>$2,500.00</td>\n      <td>Bordeaux</td>\n      <td>Chteau Ptrus 2014 Pomerol</td>\n      <td>Bordeaux-style Red Blend</td>\n      <td>Chteau Ptrus</td>\n    </tr>\n    <tr>\n      <th>1</th>\n      <td>1/1/10</td>\n      <td>France</td>\n      <td>Saint-milion</td>\n      <td>NaN</td>\n      <td>100</td>\n      <td>$1,500.00</td>\n      <td>Bordeaux</td>\n      <td>Chteau Cheval Blanc 2010 Saint-milion</td>\n      <td>Bordeaux-style Red Blend</td>\n      <td>Chteau Cheval Blanc</td>\n    </tr>\n    <tr>\n      <th>2</th>\n      <td>1/1/09</td>\n      <td>Australia</td>\n      <td>Eden Valley</td>\n      <td>Hill of Grace</td>\n      <td>91</td>\n      <td>$780.00</td>\n      <td>South Australia</td>\n      <td>Henschke 2009 Hill of Grace Shiraz (Eden Valley)</td>\n      <td>Shiraz</td>\n      <td>Henschke</td>\n    </tr>\n    <tr>\n      <th>3</th>\n      <td>1/1/15</td>\n      <td>Germany</td>\n      <td>NaN</td>\n      <td>Kiedrich Grfenberg Trockenbeerenauslese</td>\n      <td>98</td>\n      <td>$775.00</td>\n      <td>Rheingau</td>\n      <td>Robert Weil 2015 Kiedrich Grfenberg Trockenbe...</td>\n      <td>Riesling</td>\n      <td>Robert Weil</td>\n    </tr>\n    <tr>\n      <th>4</th>\n      <td>1/1/12</td>\n      <td>Spain</td>\n      <td>Priorat</td>\n      <td>El Perer</td>\n      <td>96</td>\n      <td>$770.00</td>\n      <td>Catalonia</td>\n      <td>Marco Abella 2012 El Perer Carignan (Priorat)</td>\n      <td>Carignan</td>\n      <td>Marco Abella</td>\n    </tr>\n  </tbody>\n</table>\n</div>"
     },
     "metadata": {},
     "execution_count": 26
    }
   ],
   "source": [
    "wineData = pd.read_csv(\"Data/Wines_updated.csv\", encoding=\"ISO-8859-1\")\n",
    "wineData.head()"
   ]
  },
  {
   "cell_type": "code",
   "execution_count": 20,
   "metadata": {},
   "outputs": [
    {
     "output_type": "stream",
     "name": "stdout",
     "text": [
      "{'type': 'Feature', 'properties': {'scalerank': 1, 'featurecla': 'Admin-0 country', 'labelrank': 4, 'sovereignt': 'The Bahamas', 'sov_a3': 'BHS', 'adm0_dif': 0, 'level': 2, 'type': 'Sovereign country', 'admin': 'The Bahamas', 'adm0_a3': 'BHS', 'geou_dif': 0, 'geounit': 'The Bahamas', 'gu_a3': 'BHS', 'su_dif': 0, 'subunit': 'The Bahamas', 'su_a3': 'BHS', 'brk_diff': 0, 'name': 'Bahamas', 'name_long': 'Bahamas', 'brk_a3': 'BHS', 'brk_name': 'Bahamas', 'brk_group': None, 'abbrev': 'Bhs.', 'postal': 'BS', 'formal_en': 'Commonwealth of the Bahamas', 'formal_fr': None, 'note_adm0': None, 'note_brk': None, 'name_sort': 'Bahamas, The', 'name_alt': None, 'mapcolor7': 1, 'mapcolor8': 1, 'mapcolor9': 2, 'mapcolor13': 5, 'pop_est': 309156, 'gdp_md_est': 9093, 'pop_year': -99, 'lastcensus': 2010, 'gdp_year': -99, 'economy': '6. Developing region', 'income_grp': '2. High income: nonOECD', 'wikipedia': -99, 'fips_10': None, 'iso_a2': 'BS', 'iso_a3': 'BHS', 'iso_n3': '044', 'un_a3': '044', 'wb_a2': 'BS', 'wb_a3': 'BHS', 'woe_id': -99, 'adm0_a3_is': 'BHS', 'adm0_a3_us': 'BHS', 'adm0_a3_un': -99, 'adm0_a3_wb': -99, 'continent': 'North America', 'region_un': 'Americas', 'subregion': 'Caribbean', 'region_wb': 'Latin America & Caribbean', 'name_len': 7, 'long_len': 7, 'abbrev_len': 4, 'tiny': -99, 'homepart': 1, 'filename': 'BHS.geojson', 'column name': 0}, 'geometry': {'type': 'MultiPolygon', 'coordinates': [[[[-77.53466, 23.75975], [-77.78, 23.71], [-78.03405, 24.28615], [-78.40848, 24.57564], [-78.19087, 25.2103], [-77.89, 25.17], [-77.54, 24.34], [-77.53466, 23.75975]]], [[[-77.82, 26.58], [-78.91, 26.42], [-78.98, 26.79], [-78.51, 26.87], [-77.85, 26.84], [-77.82, 26.58]]], [[[-77, 26.59], [-77.17255, 25.87918], [-77.35641, 26.00735], [-77.34, 26.53], [-77.78802, 26.92516], [-77.79, 27.04], [-77, 26.59]]]]}}\n"
     ]
    }
   ],
   "source": [
    "# Opening JSON file\n",
    "jsonfile = open('custom.geo.json')\n",
    "  \n",
    "# returns JSON object as \n",
    "# a dictionary\n",
    "Jsondata = json.load(jsonfile)\n",
    "  \n",
    "# Iterating through the json list\n",
    "for i in data['features']:\n",
    "    print(i)\n",
    "    break\n",
    "\n",
    "\n",
    "# Closing file\n",
    "geoJson.close()"
   ]
  },
  {
   "cell_type": "code",
   "execution_count": 18,
   "metadata": {},
   "outputs": [
    {
     "output_type": "stream",
     "name": "stdout",
     "text": [
      "{'column name': 2}\n"
     ]
    }
   ],
   "source": [
    "d = {}\n",
    "d['column name'] = 1\n",
    "d['column name'] = 2\n",
    "print(d)"
   ]
  },
  {
   "cell_type": "code",
   "execution_count": 28,
   "metadata": {},
   "outputs": [
    {
     "output_type": "error",
     "ename": "TypeError",
     "evalue": "string indices must be integers",
     "traceback": [
      "\u001b[0;31m---------------------------------------------------------------------------\u001b[0m",
      "\u001b[0;31mTypeError\u001b[0m                                 Traceback (most recent call last)",
      "\u001b[0;32m<ipython-input-28-b61735147162>\u001b[0m in \u001b[0;36m<module>\u001b[0;34m\u001b[0m\n\u001b[1;32m      3\u001b[0m \u001b[0;34m\u001b[0m\u001b[0m\n\u001b[1;32m      4\u001b[0m \u001b[0;32mfor\u001b[0m \u001b[0mfeature\u001b[0m \u001b[0;32min\u001b[0m \u001b[0mdata\u001b[0m\u001b[0;34m:\u001b[0m\u001b[0;34m\u001b[0m\u001b[0;34m\u001b[0m\u001b[0m\n\u001b[0;32m----> 5\u001b[0;31m     \u001b[0mprint\u001b[0m\u001b[0;34m(\u001b[0m\u001b[0mfeature\u001b[0m\u001b[0;34m[\u001b[0m\u001b[0;34m'properties'\u001b[0m\u001b[0;34m]\u001b[0m\u001b[0;34m[\u001b[0m\u001b[0;34m'name'\u001b[0m\u001b[0;34m]\u001b[0m\u001b[0;34m)\u001b[0m\u001b[0;34m\u001b[0m\u001b[0;34m\u001b[0m\u001b[0m\n\u001b[0m",
      "\u001b[0;31mTypeError\u001b[0m: string indices must be integers"
     ]
    }
   ],
   "source": [
    "with open('custom.geo.json') as fp:\n",
    "    data = json.load(fp)\n",
    "\n",
    "for feature in data:\n",
    "    print(feature['properties']['name'])"
   ]
  },
  {
   "cell_type": "code",
   "execution_count": null,
   "metadata": {},
   "outputs": [],
   "source": []
  }
 ]
}